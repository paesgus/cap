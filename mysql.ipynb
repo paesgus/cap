{
 "cells": [
  {
   "cell_type": "code",
   "execution_count": 1,
   "metadata": {},
   "outputs": [],
   "source": [
    "import mysql.connector\n",
    "from mysql.connector import Error\n",
    "import pandas as pd\n",
    "from datetime import date"
   ]
  },
  {
   "cell_type": "code",
   "execution_count": 2,
   "metadata": {},
   "outputs": [
    {
     "name": "stdout",
     "output_type": "stream",
     "text": [
      "MySQL Database connection successful\n"
     ]
    }
   ],
   "source": [
    "def create_server_connection(host_name, user_name, user_password):\n",
    "    connection = None\n",
    "    try:\n",
    "        connection = mysql.connector.connect(\n",
    "            host=host_name,\n",
    "            user=user_name,\n",
    "            passwd=user_password\n",
    "        )\n",
    "        print(\"MySQL Database connection successful\")\n",
    "    except Error as err:\n",
    "        print(f\"Error: '{err}'\")\n",
    "\n",
    "    return connection\n",
    "\n",
    "pw = \"dbgush00\" # IMPORTANT! Put your MySQL Terminal password here.\n",
    "\n",
    "connection = create_server_connection(\"localhost\", \"root\", pw)"
   ]
  },
  {
   "cell_type": "code",
   "execution_count": 3,
   "metadata": {},
   "outputs": [],
   "source": [
    "def create_database(connection, query):\n",
    "    cursor = connection.cursor()\n",
    "    try:\n",
    "        cursor.execute(query)\n",
    "        print(\"Database created successfully\")\n",
    "    except Error as err:\n",
    "        print(f\"Error: '{err}'\")\n",
    "\n",
    "#create_database_query = \"CREATE DATABASE plataformacapital\"\n",
    "#create_database(connection, create_database_query)"
   ]
  },
  {
   "cell_type": "markdown",
   "metadata": {},
   "source": [
    "## Funções uteis para banco de dados"
   ]
  },
  {
   "cell_type": "code",
   "execution_count": 4,
   "metadata": {},
   "outputs": [],
   "source": [
    "def create_db_connection(host_name, user_name, user_password, db_name):\n",
    "    connection = None\n",
    "    try:\n",
    "        connection = mysql.connector.connect(\n",
    "            host=host_name,\n",
    "            user=user_name,\n",
    "            passwd=user_password,\n",
    "            database=db_name\n",
    "        )\n",
    "        print(\"MySQL Database connection successful\")\n",
    "    except Error as err:\n",
    "        print(f\"Error: '{err}'\")\n",
    "\n",
    "    return connection"
   ]
  },
  {
   "cell_type": "code",
   "execution_count": 5,
   "metadata": {},
   "outputs": [],
   "source": [
    "def execute_query(connection, query):\n",
    "    cursor = connection.cursor()\n",
    "    try:\n",
    "        cursor.execute(query)\n",
    "        connection.commit()\n",
    "        print(\"Query successful\")\n",
    "    except Error as err:\n",
    "        print(f\"Error: '{err}'\")"
   ]
  },
  {
   "cell_type": "code",
   "execution_count": 6,
   "metadata": {},
   "outputs": [],
   "source": [
    "def read_query(connection, query):\n",
    "    cursor = connection.cursor()\n",
    "    result = None\n",
    "    try:\n",
    "        cursor.execute(query)\n",
    "        result = cursor.fetchall()\n",
    "        return result\n",
    "    except Error as err:\n",
    "        print(f\"Error: '{err}'\")"
   ]
  },
  {
   "cell_type": "markdown",
   "metadata": {},
   "source": [
    "\n",
    "### Criando as tabelas"
   ]
  },
  {
   "cell_type": "code",
   "execution_count": 7,
   "metadata": {},
   "outputs": [],
   "source": [
    "db = \"plataformacapital\" # This is the name of the database we will create in the next step - call it whatever you like."
   ]
  },
  {
   "cell_type": "code",
   "execution_count": 8,
   "metadata": {},
   "outputs": [
    {
     "name": "stdout",
     "output_type": "stream",
     "text": [
      "MySQL Database connection successful\n",
      "Query successful\n",
      "Query successful\n",
      "Query successful\n",
      "Query successful\n",
      "Query successful\n",
      "Query successful\n",
      "Query successful\n",
      "Query successful\n",
      "Query successful\n"
     ]
    }
   ],
   "source": [
    "create_t25_table = \"\"\"\n",
    "CREATE TABLE tbng1025_vers_agem_flux_capi (\n",
    "  cod_agem_flux_capi INT,\n",
    "  num_vers_agem_flux_capi INT,\n",
    "  cod_situ_exeo_flux_capi INT,\n",
    "  cod_tipo_esra_capi INT,\n",
    "  ind_utiz_vers_agem VARCHAR(1),\n",
    "  dat_rfrc_psst DATE\n",
    "  );\n",
    " \"\"\"\n",
    "\n",
    "create_t21_table = \"\"\"\n",
    "CREATE TABLE tbng1021_situ_exeo_flux_capi (\n",
    "  cod_situ_exeo_flux_capi INT PRIMARY KEY,\n",
    "  nom_tipo_base_orig_capi VARCHAR(256)\n",
    ");\n",
    " \"\"\"\n",
    "\n",
    "create_t4_table = \"\"\"\n",
    "CREATE TABLE tbng1004_agem_flux_capi (\n",
    "  cod_agem_flux_capi INT PRIMARY KEY,\n",
    "  nom_agem_flux_capi VARCHAR(256)\n",
    ");\n",
    "\"\"\"\n",
    "\n",
    "create_t24_table = \"\"\"\n",
    "CREATE TABLE tbng1024_tipo_esra_capi (\n",
    "  cod_tipo_esra_capi INT PRIMARY KEY,\n",
    "  nom_tipo_esra_capi VARCHAR(256)\n",
    ");\n",
    "\"\"\"\n",
    "\n",
    "create_t3_table = \"\"\"\n",
    "CREATE TABLE tbng1003_agem_cenr_flux_capi (\n",
    "  cod_agem_flux_capi INT,\n",
    "  num_vers_agem_flux_capi INT,\n",
    "  cod_cenr_flux_capi INT,\n",
    "  num_vers_cenr_flux_capi INT\n",
    ");\n",
    "\"\"\"\n",
    "\n",
    "create_t13_table = \"\"\"\n",
    "CREATE TABLE tbng1013_cenr_prso_flux_capi (\n",
    "  cod_cenr_flux_capi INT,\n",
    "  num_vers_cenr_flux_capi INT,\n",
    "  cod_prso_flux_capi INT,\n",
    "  num_vers_prso_flux_capi INT,\n",
    "  cod_situ_exeo_flux_capi INT,\n",
    "  dat_inio_psst DATE,\n",
    "  dat_fim_psst DATE\n",
    ");\n",
    "\"\"\"\n",
    "\n",
    "create_t99_table = \"\"\"\n",
    "CREATE TABLE tbng1099_arqu_vrto_cenr_prso (\n",
    "  cod_cenr_flux_capi INT,\n",
    "  num_vers_cenr_flux_capi INT,\n",
    "  cod_prso_flux_capi INT,\n",
    "  num_vers_prso_flux_capi INT,\n",
    "  nom_arqu_vrto VARCHAR(50),\n",
    "  dat_rfrc_vrto DATE,\n",
    "  num_vrto_arqu INT\n",
    ");\n",
    "\"\"\"\n",
    "\n",
    "create_t17_table = \"\"\"\n",
    "CREATE TABLE tbng1017_prso_base_flux_capi (\n",
    "  cod_prso_flux_capi INT,\n",
    "  num_vers_prso_flux_capi INT,\n",
    "  cod_base_orig_capi INT\n",
    ");\n",
    "\"\"\"\n",
    "\n",
    "create_t2_table = \"\"\"\n",
    "CREATE TABLE tbng1002_vrto_recp_arqu_capi (\n",
    "  nom_arqu_vrto_recp_arqu_capi VARCHAR(50),\n",
    "  num_vrto_arqu INT,\n",
    "  dat_rfrc_vrto_arqu DATE,\n",
    "  dat_recm_vers_arqu DATE,\n",
    "  cod_base_orig_capi INT\n",
    ");\n",
    "\"\"\"\n",
    "\n",
    "\n",
    "connection = create_db_connection(\"localhost\", \"root\", pw, db)\n",
    "execute_query(connection, create_t25_table) # Execute our defined query\n",
    "execute_query(connection, create_t21_table)\n",
    "execute_query(connection, create_t4_table)\n",
    "execute_query(connection, create_t24_table)\n",
    "execute_query(connection, create_t3_table)\n",
    "execute_query(connection, create_t13_table)\n",
    "execute_query(connection, create_t99_table)\n",
    "execute_query(connection, create_t17_table)\n",
    "execute_query(connection, create_t2_table)"
   ]
  },
  {
   "cell_type": "markdown",
   "metadata": {},
   "source": [
    "### Populando as tabelas"
   ]
  },
  {
   "cell_type": "code",
   "execution_count": 42,
   "metadata": {},
   "outputs": [
    {
     "name": "stdout",
     "output_type": "stream",
     "text": [
      "Query successful\n",
      "Query successful\n",
      "Query successful\n",
      "Query successful\n",
      "Query successful\n",
      "Query successful\n",
      "Query successful\n",
      "Query successful\n",
      "Query successful\n"
     ]
    }
   ],
   "source": [
    "lista_tabelas = ['tbng1025_vers_agem_flux_capi','tbng1021_situ_exeo_flux_capi','tbng1004_agem_flux_capi',\n",
    "                'tbng1024_tipo_esra_capi','tbng1003_agem_cenr_flux_capi','tbng1013_cenr_prso_flux_capi',\n",
    "                'tbng1099_arqu_vrto_cenr_prso','tbng1017_prso_base_flux_capi','tbng1002_vrto_recp_arqu_capi']\n",
    "for tabela in lista_tabelas:\n",
    "    execute_query(connection, f\"TRUNCATE TABLE {tabela}\")"
   ]
  },
  {
   "cell_type": "code",
   "execution_count": 43,
   "metadata": {},
   "outputs": [
    {
     "name": "stdout",
     "output_type": "stream",
     "text": [
      "MySQL Database connection successful\n",
      "Query successful\n",
      "Query successful\n",
      "Query successful\n",
      "Query successful\n",
      "Query successful\n",
      "Query successful\n",
      "Query successful\n",
      "Query successful\n",
      "Query successful\n"
     ]
    }
   ],
   "source": [
    "pop_t25 = \"\"\"\n",
    "INSERT INTO tbng1025_vers_agem_flux_capi VALUES\n",
    "(0, 100, 0, 7001, 'P', '1968-07-20'),\n",
    "(1, 101, 2, 7001, 'P', '1985-08-20'),\n",
    "(2, 102, 1, 7002, 'P', '1985-05-20'),\n",
    "(3, 103, 0, 7001, 'S', '2000-04-22'),\n",
    "(4, 104, 2, 7002, 'P', '2011-04-20'),\n",
    "(5, 105, 2, 7001, 'P', '2020-04-20'),\n",
    "(6, 106, 0, 7001, 'S', '2022-04-20'),\n",
    "(7, 107, 1, 7003, 'S', '2022-04-20'),\n",
    "(8, 108, 0, 7001, 'S', '2021-04-23'),\n",
    "(9, 109, 0, 7003, 'P', '2021-04-22');\n",
    "\"\"\"\n",
    "\n",
    "pop_t24 = \"\"\"\n",
    "INSERT INTO tbng1024_tipo_esra_capi VALUES\n",
    "(7001, 'ESTEIRA CAPIRAL'),\n",
    "(7002, 'ESTEIRA CALCULO'),\n",
    "(7003, 'ESTEIRA PROVISONAMENTO');\n",
    "\"\"\"\n",
    "\n",
    "pop_t21 = \"\"\"\n",
    "INSERT INTO tbng1021_situ_exeo_flux_capi VALUES\n",
    "(0, 'ABERTO'),\n",
    "(1, 'EM ANDAMENTO'),\n",
    "(2, 'CONCLUIDO');\n",
    "\"\"\"\n",
    "\n",
    "pop_t4 = \"\"\"\n",
    "INSERT INTO tbng1004_agem_flux_capi VALUES\n",
    "(0, 'TESTE'),\n",
    "(1, 'VAVA'),\n",
    "(2, 'SID'),\n",
    "(3, 'MEIERS'),\n",
    "(4, 'CIVILIZATION'),\n",
    "(5, 'AMONG'),\n",
    "(6, 'US'),\n",
    "(7, 'GLOBAL'),\n",
    "(8, 'OFFENSIVE'),\n",
    "(9, 'VAULT BOY');\n",
    "\"\"\"\n",
    "\n",
    "pop_t3 = \"\"\"\n",
    "INSERT INTO tbng1003_agem_cenr_flux_capi VALUES\n",
    "(0, 100, 0, 300),\n",
    "(0, 100, 1, 301),\n",
    "(0, 100, 2, 302),\n",
    "(1, 101, 10, 310),\n",
    "(1, 101, 11, 311),\n",
    "(1, 101, 12, 312),\n",
    "(2, 102, 13, 313),\n",
    "(3, 103, 19, 319),\n",
    "(3, 103, 20, 320),\n",
    "(9, 109, 30, 330),\n",
    "(9, 109, 31, 331);\n",
    "\"\"\"\n",
    "\n",
    "pop_t13 = \"\"\"\n",
    "INSERT INTO tbng1013_cenr_prso_flux_capi VALUES\n",
    "(0, 300, 0, 500, 2, NULL, NULL),\n",
    "(0, 300, 1, 511, 0, NULL, NULL),\n",
    "(1, 301, 2, 522, 0, NULL, NULL),\n",
    "(1, 301, 3, 533, 1, NULL, NULL),\n",
    "(10, 310, 4, 544, 2, NULL, NULL),\n",
    "(11, 311, 5, 555, 2, NULL, NULL),\n",
    "(13, 313, 8, 588, 1, NULL, NULL),\n",
    "(19, 319, 6, 566, 0, NULL, NULL),\n",
    "(20, 320, 7, 577, 0, NULL, NULL),\n",
    "(30, 330, 8, 593, 2, NULL, NULL),\n",
    "(30, 330, 9, 594, 2, NULL, NULL),\n",
    "(31, 331, 10, 595, 2, NULL, NULL);\n",
    "\"\"\"\n",
    "\n",
    "pop_t99 = \"\"\"\n",
    "INSERT INTO tbng1099_arqu_vrto_cenr_prso VALUES\n",
    "(0, 300, 1, 511, 'v2ser', '2021-04-20',001),\n",
    "(0, 300, 1, 511, 'v2crd', '2021-04-21',001),\n",
    "(0, 300, 0, 500, 'rasc', '2021-04-22',002),\n",
    "(0, 300, 0, 500, 'ggpi', '2021-04-23',002),\n",
    "(0, 300, 0, 500, 'fato', '2021-04-24',003),\n",
    "(0, 300, 0, 500, 'rnatc', '2021-04-25',001),\n",
    "(19, 319, 6, 566, 'bt10c', '2021-04-26',001),\n",
    "(19, 319, 6, 566, 'bt10d', '2021-04-26',001),\n",
    "(19, 319, 6, 566, 'bt10e', '2021-04-26',001),\n",
    "(0, 300, 0, 500, 'v2ser', '2021-04-29',002),\n",
    "(30, 330, 8, 593, 'kafk1', '2021-04-30',001),\n",
    "(30, 330, 8, 593, 'kafk3', '2021-04-30',001),\n",
    "(30, 330, 9, 594, 'kafk4', '2021-04-30',001),\n",
    "(31, 331, 10, 595, 'kafk7', '2021-04-30',001),\n",
    "(31, 331, 10, 595, 'kafk9', '2021-04-30',001);\n",
    "\"\"\"\n",
    "\n",
    "pop_t17 = \"\"\"\n",
    "INSERT INTO tbng1017_prso_base_flux_capi VALUES\n",
    "(0, 500, 90012),\n",
    "(0, 500, 90013),\n",
    "(0, 500, 90014),\n",
    "(1, 511, 90021),\n",
    "(1, 511, 90022),\n",
    "(1, 511, 90023),\n",
    "(5, 555, 90056),\n",
    "(5, 555, 90057),\n",
    "(8, 588, 90089);\n",
    "\"\"\"\n",
    "\n",
    "pop_t2 = \"\"\"\n",
    "INSERT INTO tbng1002_vrto_recp_arqu_capi VALUES\n",
    "('v2ser', 001, '2021-04-20', '2020-12-20', 90012),\n",
    "('v2ser', 002, '2021-04-22', '2020-12-23', 90013),\n",
    "('v2ser', 002, '2021-04-29', '2020-12-28', 90014),\n",
    "('v2crd', 001, '2021-04-21', '2020-12-30', 90015),\n",
    "('v2crd', 002, '2021-04-29', '2020-12-28', 90016),\n",
    "('rasc', 002, '2021-04-22', '2020-11-28', 90017),\n",
    "('bt10c', 001, '2021-01-21', '2020-8-30', 90018),\n",
    "('bt10d', 002, '2021-01-21', '2020-8-30', 90018),\n",
    "('bt10e', 001, '2021-01-21', '2020-8-30', 90018),\n",
    "('bt10c', 001, '2021-04-26', '2020-10-30', 90018),\n",
    "('bt10d', 002, '2021-04-26', '2020-10-30', 90018),\n",
    "('bt10e', 001, '2021-04-26', '2020-10-30', 90018),\n",
    "('kafk1', 001, '2021-04-30', '2020-10-30', 90021),\n",
    "('kafk3', 001, '2021-04-30', '2020-10-30', 90021),\n",
    "('kafk4', 001, '2021-04-30', '2020-10-30', 90021),\n",
    "('kafk7', 001, '2021-04-30', '2020-10-30', 90021),\n",
    "('kafk9', 001, '2021-04-30', '2020-10-30', 90021);\n",
    "\"\"\"\n",
    "\n",
    "connection = create_db_connection(\"localhost\", \"root\", pw, db)\n",
    "execute_query(connection, pop_t25)\n",
    "execute_query(connection, pop_t24)\n",
    "execute_query(connection, pop_t21)\n",
    "execute_query(connection, pop_t4)\n",
    "execute_query(connection, pop_t3)\n",
    "execute_query(connection, pop_t13)\n",
    "execute_query(connection, pop_t17)\n",
    "execute_query(connection, pop_t99)\n",
    "execute_query(connection, pop_t2)"
   ]
  },
  {
   "cell_type": "markdown",
   "metadata": {},
   "source": [
    "## Queries teste"
   ]
  },
  {
   "cell_type": "raw",
   "metadata": {},
   "source": [
    "#query teste\n",
    "sql = \"\"\"\n",
    "        SELECT t25.*, t21.nom_tipo_base_orig_capi, t4.nom_agem_flux_capi\n",
    "        FROM tbng1025_vers_agem_flux_capi as t25\n",
    "        LEFT JOIN tbng1021_situ_exeo_flux_capi as t21\n",
    "        ON t25.cod_situ_exeo_flux_capi = t21.cod_situ_exeo_flux_capi\n",
    "        LEFT JOIN tbng1004_agem_flux_capi as t4\n",
    "        ON t25.cod_agem_flux_capi = t4.cod_agem_flux_capi\n",
    "        ;\n",
    "    \"\"\"\n",
    "#read_query(connection,sql)\n",
    "\n",
    "sql_teste = \"\"\"\n",
    "                    SELECT dat_rfrc_psst\n",
    "                    FROM tbng1025_vers_agem_flux_capi \n",
    "                    WHERE cod_situ_exeo_flux_capi = 0;\n",
    "                \"\"\"\n",
    "teste = list(read_query(connection,sql_teste))\n",
    "\n",
    "teste = [(datetime.date(2021, 4, 20),), (datetime.date(2000, 4, 20),), (datetime.date(2021, 4, 20),), (datetime.date(2021, 4, 16),), (datetime.date(2021, 4, 16),)]\n",
    "print(teste)\n",
    "today = date.today()\n",
    "print(today)\n",
    "\n",
    "if (today >= teste[0][0]):\n",
    "    print('rodar teste')\n",
    "else:\n",
    "    print('nao rodar -- continue')"
   ]
  },
  {
   "cell_type": "markdown",
   "metadata": {},
   "source": [
    "# Programa Real"
   ]
  },
  {
   "cell_type": "code",
   "execution_count": 53,
   "metadata": {},
   "outputs": [
    {
     "name": "stdout",
     "output_type": "stream",
     "text": [
      "Passando o agendamento de codigo 0 e a versao 100\n",
      "\n",
      "\n",
      "\tPassando o cenario de codigo 0 e a versao 300\n",
      "\t\tPassando o processo de codigo 0 e a versao 500\n",
      "\t\tPassando o processo de codigo 1 e a versao 511\n",
      "\t\t\t\tarquivos necessarios:\n",
      "\t\t\t\tv2ser 2021-04-20 1\n",
      "\t\t\t\tv2crd 2021-04-21 1\n",
      "\t\t\t\tConferindo se o arquivo de nome v2ser, versao 1 e data 2021-04-20 existe\n",
      "\t\t\t\t\tO Arquivo existe :)\n",
      "\t\t\t\tConferindo se o arquivo de nome v2crd, versao 1 e data 2021-04-21 existe\n",
      "\t\t\t\t\tO Arquivo existe :)\n",
      "\t\t\t\t\t>>>Enviar processo para Glue e atualizar processo para 1\n",
      "\n",
      "\n",
      "\tPassando o cenario de codigo 1 e a versao 301\n",
      "\t\tPassando o processo de codigo 2 e a versao 522\n",
      "\t\t\t\tarquivos necessarios:\n",
      "\t\tPassando o processo de codigo 3 e a versao 533\n",
      "\n",
      "\n",
      "\tPassando o cenario de codigo 2 e a versao 302\n",
      "NAO - agendamento ainda tem processos em aberto\n",
      "\n",
      "-----------------------------\n",
      "Passando o agendamento de codigo 2 e a versao 102\n",
      "\n",
      "\n",
      "\tPassando o cenario de codigo 13 e a versao 313\n",
      "\t\tPassando o processo de codigo 8 e a versao 588\n",
      "NAO - agendamento ainda tem processos em aberto\n",
      "\n",
      "-----------------------------\n",
      "Passando o agendamento de codigo 3 e a versao 103\n",
      "\n",
      "\n",
      "\tPassando o cenario de codigo 19 e a versao 319\n",
      "\t\tPassando o processo de codigo 6 e a versao 566\n",
      "\t\t\t\tarquivos necessarios:\n",
      "\t\t\t\tbt10c 2021-04-26 1\n",
      "\t\t\t\tbt10d 2021-04-26 1\n",
      "\t\t\t\tbt10e 2021-04-26 1\n",
      "\t\t\t\tConferindo se o arquivo de nome bt10c, versao 1 e data 2021-04-26 existe\n",
      "\t\t\t\t\tO Arquivo existe :)\n",
      "\t\t\t\tConferindo se o arquivo de nome bt10d, versao 1 e data 2021-04-26 existe\n",
      "\t\t\t\t\tNÃO EXISTE :(\n",
      "\t\t\t\tConferindo se o arquivo de nome bt10e, versao 1 e data 2021-04-26 existe\n",
      "\t\t\t\t\tO Arquivo existe :)\n",
      "\t\t\t\t\t>>>Existem arquivos faltando\n",
      "\n",
      "\n",
      "\tPassando o cenario de codigo 20 e a versao 320\n",
      "\t\tPassando o processo de codigo 7 e a versao 577\n",
      "\t\t\t\tarquivos necessarios:\n",
      "NAO - agendamento ainda tem processos em aberto\n",
      "\n",
      "-----------------------------\n",
      "Passando o agendamento de codigo 9 e a versao 109\n",
      "\n",
      "\n",
      "\tPassando o cenario de codigo 30 e a versao 330\n",
      "\t\tPassando o processo de codigo 8 e a versao 593\n",
      "\t\tPassando o processo de codigo 9 e a versao 594\n",
      "\n",
      "\n",
      "\tPassando o cenario de codigo 31 e a versao 331\n",
      "\t\tPassando o processo de codigo 10 e a versao 595\n",
      "agendamento finalizado, parabeins\n",
      "\n",
      "-----------------------------\n"
     ]
    }
   ],
   "source": [
    "sql_agendamento = f\"\"\"\n",
    "                    SELECT cod_agem_flux_capi,  num_vers_agem_flux_capi, dat_rfrc_psst\n",
    "                    FROM tbng1025_vers_agem_flux_capi \n",
    "                    WHERE cod_situ_exeo_flux_capi != 2 AND dat_rfrc_psst <= '{date.today().strftime(\"%Y-%m-%d\")}';\n",
    "                \"\"\"\n",
    "lista_agendamentos = list(read_query(connection,sql_agendamento))\n",
    "\n",
    "for agendamento in lista_agendamentos:\n",
    "    codigo_agendamento = agendamento[0]\n",
    "    versao_agendamento = agendamento[1]\n",
    "    data_agendamento = agendamento[2]\n",
    "    \n",
    "    qtd_processos_necessarios = 0\n",
    "    qtd_processos_concluidos = 0\n",
    "    print(f'Passando o agendamento de codigo {codigo_agendamento} e a versao {versao_agendamento}')\n",
    "\n",
    "    sql_cenarios = f\"\"\"\n",
    "                    SELECT cod_cenr_flux_capi, num_vers_cenr_flux_capi\n",
    "                    FROM tbng1003_agem_cenr_flux_capi\n",
    "                    WHERE cod_agem_flux_capi = {codigo_agendamento} AND num_vers_agem_flux_capi = {versao_agendamento};\n",
    "                 \"\"\"\n",
    "    lista_cenarios = list(read_query(connection,sql_cenarios))\n",
    "    qtd_cenarios = list(lista_cenarios)\n",
    "\n",
    "    for cenario in lista_cenarios:\n",
    "        print('\\n')\n",
    "        codigo_cenario = cenario[0]\n",
    "        versao_cenario = cenario[1]\n",
    "        print(f'\\tPassando o cenario de codigo {codigo_cenario} e a versao {versao_cenario}')\n",
    "        \n",
    "        sql_processos = f\"\"\"\n",
    "                        SELECT cod_prso_flux_capi, num_vers_prso_flux_capi, cod_situ_exeo_flux_capi\n",
    "                        FROM tbng1013_cenr_prso_flux_capi\n",
    "                        WHERE cod_cenr_flux_capi = {codigo_cenario} AND num_vers_cenr_flux_capi = {versao_cenario};\n",
    "                        \"\"\"\n",
    "        lista_processos = list(read_query(connection,sql_processos))\n",
    "\n",
    "        \n",
    "        for processo in lista_processos:\n",
    "            codigo_processo = processo[0]\n",
    "            versao_processo = processo[1]\n",
    "            situacao_processo = processo[2]\n",
    "            print(f'\\t\\tPassando o processo de codigo {codigo_processo} e a versao {versao_processo}')\n",
    "            \n",
    "            qtd_processos_necessarios += 1\n",
    "            \n",
    "            #se o processo estiver finalizado não é necessário conferir os arquivos\n",
    "            if (situacao_processo == 2):\n",
    "                qtd_processos_concluidos += 1\n",
    "                continue\n",
    "            \n",
    "            if(situacao_processo == 1):\n",
    "                continue\n",
    "                \n",
    "                \n",
    "            sql_arquivos = f\"\"\"\n",
    "                                SELECT nom_arqu_vrto, dat_rfrc_vrto, num_vrto_arqu\n",
    "                                FROM tbng1099_arqu_vrto_cenr_prso\n",
    "                                WHERE cod_cenr_flux_capi = {codigo_cenario} AND num_vers_cenr_flux_capi = {versao_cenario}\n",
    "                                AND cod_prso_flux_capi = {codigo_processo} AND num_vers_prso_flux_capi = {versao_processo};\n",
    "                                \"\"\"\n",
    "            lista_arquivos = list(read_query(connection,sql_arquivos))\n",
    "            qtd_arquivos_necessarios = len(lista_arquivos)\n",
    "            qtd_arquivos_presente = 0\n",
    "                \n",
    "            print('\\t\\t\\t\\tarquivos necessarios:')\n",
    "            for l in lista_arquivos:\n",
    "                print(f'\\t\\t\\t\\t{l[0]} {l[1]} {l[2]}')\n",
    "\n",
    "            if (len(lista_arquivos) <= 0):\n",
    "                continue\n",
    "                \n",
    "            for arquivo in lista_arquivos:\n",
    "                nome_arquivo = arquivo[0]\n",
    "                data_arquivo = arquivo[1]\n",
    "                versao_arquivo = arquivo[2]\n",
    "                print(f'\\t\\t\\t\\tConferindo se o arquivo de nome {nome_arquivo}, versao {versao_arquivo} e data {data_arquivo} existe')\n",
    "\n",
    "                sql_bate = f\"\"\"\n",
    "                                SELECT *\n",
    "                                FROM tbng1002_vrto_recp_arqu_capi\n",
    "                                WHERE nom_arqu_vrto_recp_arqu_capi = \"{nome_arquivo}\" AND num_vrto_arqu = {versao_arquivo}\n",
    "                                AND dat_rfrc_vrto_arqu = \"{data_arquivo}\";\n",
    "                                \"\"\"\n",
    "                \n",
    "                comparacao = list(read_query(connection,sql_bate))\n",
    "                        \n",
    "                if (len(comparacao)>0):\n",
    "                    print('\\t\\t\\t\\t\\tO Arquivo existe :)')\n",
    "                    qtd_arquivos_presente += 1\n",
    "                else:\n",
    "                    print('\\t\\t\\t\\t\\tNÃO EXISTE :(')\n",
    "                        \n",
    "            if((qtd_arquivos_necessarios == qtd_arquivos_presente) and qtd_arquivos_necessarios > 0):\n",
    "                print('\\t\\t\\t\\t\\t>>>Enviar processo para Glue e atualizar processo para 1')\n",
    "                #sql_update_processo = f\"\"\"\n",
    "                #                       UPDATE tbng1099_arqu_vrto_cenr_prso\n",
    "                #                       SET cod_situ_exeo_flux_capi = 1\n",
    "                #                       WHERE cod_cenr_flux_capi = {codigo_cenario} AND num_vers_cenr_flux_capi = {versao_cenario}\n",
    "                #                       AND cod_prso_flux_capi = {codigo_processo} AND num_vers_prso_flux_capi = {versao_processo};\n",
    "                #                       \"\"\"\n",
    "                #execute_query(connection, sql_update_processo)\n",
    "            else:\n",
    "                print('\\t\\t\\t\\t\\t>>>Existem arquivos faltando')\n",
    "    \n",
    "\n",
    "    if(qtd_processos_concluidos == qtd_processos_necessarios):\n",
    "        print('agendamento finalizado, parabeins')\n",
    "        #update = f\"\"\"UPDATE tbng1025_vers_agem_flux_capi \n",
    "        #           SET cod_situ_exeo_flux_capi = 2\n",
    "        #           WHERE cod_agem_flux_capi = {codigo_agendamento};\"\"\"\n",
    "        #execute_query(connection, update)\n",
    "    else:\n",
    "        print('NAO - agendamento ainda tem processos em aberto')\n",
    "        \n",
    "                        \n",
    "    print('\\n-----------------------------')\n",
    "    \n",
    "    "
   ]
  },
  {
   "cell_type": "code",
   "execution_count": null,
   "metadata": {},
   "outputs": [],
   "source": []
  },
  {
   "cell_type": "code",
   "execution_count": null,
   "metadata": {},
   "outputs": [],
   "source": []
  },
  {
   "cell_type": "code",
   "execution_count": 45,
   "metadata": {},
   "outputs": [],
   "source": [
    "connection.close()"
   ]
  },
  {
   "cell_type": "code",
   "execution_count": null,
   "metadata": {},
   "outputs": [],
   "source": []
  },
  {
   "cell_type": "code",
   "execution_count": null,
   "metadata": {},
   "outputs": [],
   "source": [
    "    #update = f\"\"\"UPDATE tbng1025_vers_agem_flux_capi \n",
    "    #           SET cod_situ_exeo_flux_capi = 1\n",
    "    #           WHERE cod_agem_flux_capi = {codigo_agendamento};\"\"\"\n",
    "    #execute_query(connection, update)"
   ]
  },
  {
   "cell_type": "code",
   "execution_count": null,
   "metadata": {},
   "outputs": [],
   "source": []
  },
  {
   "cell_type": "code",
   "execution_count": null,
   "metadata": {},
   "outputs": [],
   "source": []
  },
  {
   "cell_type": "code",
   "execution_count": null,
   "metadata": {},
   "outputs": [],
   "source": []
  },
  {
   "cell_type": "code",
   "execution_count": 47,
   "metadata": {},
   "outputs": [
    {
     "data": {
      "text/plain": [
       "[[[1, 2], [3, 4]], [[5, 6], [7, 8]]]"
      ]
     },
     "execution_count": 47,
     "metadata": {},
     "output_type": "execute_result"
    }
   ],
   "source": [
    "lista = [[[1,2],[3,4]],[[5,6],[7,8]]]\n",
    "lista"
   ]
  },
  {
   "cell_type": "code",
   "execution_count": 51,
   "metadata": {},
   "outputs": [
    {
     "name": "stdout",
     "output_type": "stream",
     "text": [
      "1\n",
      "2\n",
      "3\n",
      "4\n",
      "5\n",
      "6\n",
      "7\n",
      "8\n"
     ]
    }
   ],
   "source": [
    "lista = [[[1,2],[3,4]],[[5,6],[7,8]]]\n",
    "\n",
    "for sublista in lista:\n",
    "    qtd_itens_existentes = 0\n",
    "    for subsublista in sublista:\n",
    "        for item in subsublista:\n",
    "            print(item)"
   ]
  },
  {
   "cell_type": "code",
   "execution_count": null,
   "metadata": {},
   "outputs": [],
   "source": []
  },
  {
   "cell_type": "code",
   "execution_count": null,
   "metadata": {},
   "outputs": [],
   "source": []
  },
  {
   "cell_type": "code",
   "execution_count": null,
   "metadata": {},
   "outputs": [],
   "source": []
  },
  {
   "cell_type": "code",
   "execution_count": null,
   "metadata": {},
   "outputs": [],
   "source": []
  },
  {
   "cell_type": "code",
   "execution_count": null,
   "metadata": {},
   "outputs": [],
   "source": []
  },
  {
   "cell_type": "code",
   "execution_count": null,
   "metadata": {},
   "outputs": [],
   "source": []
  },
  {
   "cell_type": "markdown",
   "metadata": {},
   "source": [
    "##### 3.3 - Define Foreign Key Relationships\n",
    "\n",
    "Now altering the tables to create Foreign Key relationships (see the accompanying [SQL Tutorial Series](https://towardsdatascience.com/tagged/sql-series) on [Towards Data Science](https://towardsdatascience.com/) for the background on all of this), and creating our final table, takes_course"
   ]
  },
  {
   "cell_type": "code",
   "execution_count": 8,
   "metadata": {},
   "outputs": [
    {
     "name": "stdout",
     "output_type": "stream",
     "text": [
      "MySQL Database connection successful\n",
      "Query successful\n",
      "Query successful\n",
      "Query successful\n",
      "Query successful\n"
     ]
    }
   ],
   "source": [
    "alter_participant = \"\"\"\n",
    "ALTER TABLE participant\n",
    "ADD FOREIGN KEY(client)\n",
    "REFERENCES client(client_id)\n",
    "ON DELETE SET NULL;\n",
    "\"\"\"\n",
    "\n",
    "alter_course = \"\"\"\n",
    "ALTER TABLE course\n",
    "ADD FOREIGN KEY(teacher)\n",
    "REFERENCES teacher(teacher_id)\n",
    "ON DELETE SET NULL;\n",
    "\"\"\"\n",
    "\n",
    "alter_course_again = \"\"\"\n",
    "ALTER TABLE course\n",
    "ADD FOREIGN KEY(client)\n",
    "REFERENCES client(client_id)\n",
    "ON DELETE SET NULL;\n",
    "\"\"\"\n",
    "\n",
    "create_takescourse_table = \"\"\"\n",
    "CREATE TABLE takes_course (\n",
    "  participant_id INT,\n",
    "  course_id INT,\n",
    "  PRIMARY KEY(participant_id, course_id),\n",
    "  FOREIGN KEY(participant_id) REFERENCES participant(participant_id) ON DELETE CASCADE, -- it makes no sense to keep this rtelation when a participant or course is no longer in the system, hence why CASCADE this time\n",
    "  FOREIGN KEY(course_id) REFERENCES course(course_id) ON DELETE CASCADE\n",
    ");\n",
    "\"\"\"\n",
    "\n",
    "connection = create_db_connection(\"localhost\", \"root\", pw, db)\n",
    "execute_query(connection, alter_participant)\n",
    "execute_query(connection, alter_course)\n",
    "execute_query(connection, alter_course_again)\n",
    "execute_query(connection, create_takescourse_table)\n"
   ]
  },
  {
   "cell_type": "markdown",
   "metadata": {},
   "source": [
    "-----------------\n",
    "\n",
    "### 4. Populate Tables\n",
    "\n",
    "The next step is to populate our tables with data, starting with the teacher table\n",
    "\n",
    "##### 4.1 - Populate Teacher Table\n",
    "\n",
    "Here we again assign a multi-line string with our SQL command to a variable, and then call our create_db_connection and execute_query functions."
   ]
  },
  {
   "cell_type": "code",
   "execution_count": 9,
   "metadata": {},
   "outputs": [
    {
     "name": "stdout",
     "output_type": "stream",
     "text": [
      "MySQL Database connection successful\n",
      "Query successful\n"
     ]
    }
   ],
   "source": [
    "pop_teacher = \"\"\"\n",
    "INSERT INTO teacher VALUES\n",
    "(1,  'James', 'Smith', 'ENG', NULL, '1985-04-20', 12345, '+491774553676'),\n",
    "(2, 'Stefanie',  'Martin',  'FRA', NULL,  '1970-02-17', 23456, '+491234567890'), \n",
    "(3, 'Steve', 'Wang',  'MAN', 'ENG', '1990-11-12', 34567, '+447840921333'),\n",
    "(4, 'Friederike',  'Müller-Rossi', 'DEU', 'ITA', '1987-07-07',  45678, '+492345678901'),\n",
    "(5, 'Isobel', 'Ivanova', 'RUS', 'ENG', '1963-05-30',  56789, '+491772635467'),\n",
    "(6, 'Niamh', 'Murphy', 'ENG', 'IRI', '1995-09-08',  67890, '+491231231232');\n",
    "\"\"\"\n",
    "\n",
    "connection = create_db_connection(\"localhost\", \"root\", pw, db)\n",
    "execute_query(connection, pop_teacher)"
   ]
  },
  {
   "cell_type": "markdown",
   "metadata": {},
   "source": [
    "--------------\n",
    "\n",
    "### 5. Reading Data\n",
    "\n",
    "##### 5.1 - Define Data Reading Function\n",
    "\n",
    "Now that we have populated our tables, it's time to start creating read queries. To do this, we will need a new function."
   ]
  },
  {
   "cell_type": "code",
   "execution_count": 11,
   "metadata": {},
   "outputs": [],
   "source": [
    "def read_query(connection, query):\n",
    "    cursor = connection.cursor()\n",
    "    result = None\n",
    "    try:\n",
    "        cursor.execute(query)\n",
    "        result = cursor.fetchall()\n",
    "        return result\n",
    "    except Error as err:\n",
    "        print(f\"Error: '{err}'\")"
   ]
  },
  {
   "cell_type": "markdown",
   "metadata": {},
   "source": [
    "##### 5.2 - Read Data from Database\n",
    "\n",
    "Let's try this with a simple query to begin with."
   ]
  },
  {
   "cell_type": "code",
   "execution_count": 12,
   "metadata": {},
   "outputs": [
    {
     "name": "stdout",
     "output_type": "stream",
     "text": [
      "MySQL Database connection successful\n",
      "(1, 'James', 'Smith', 'ENG', None, datetime.date(1985, 4, 20), 12345, '+491774553676')\n",
      "(2, 'Stefanie', 'Martin', 'FRA', None, datetime.date(1970, 2, 17), 23456, '+491234567890')\n",
      "(3, 'Steve', 'Wang', 'MAN', 'ENG', datetime.date(1990, 11, 12), 34567, '+447840921333')\n",
      "(4, 'Friederike', 'Müller-Rossi', 'DEU', 'ITA', datetime.date(1987, 7, 7), 45678, '+492345678901')\n",
      "(5, 'Isobel', 'Ivanova', 'RUS', 'ENG', datetime.date(1963, 5, 30), 56789, '+491772635467')\n",
      "(6, 'Niamh', 'Murphy', 'ENG', 'IRI', datetime.date(1995, 9, 8), 67890, '+491231231232')\n"
     ]
    }
   ],
   "source": [
    "q1 = \"\"\"\n",
    "SELECT *\n",
    "FROM teacher;\n",
    "\"\"\"\n",
    "\n",
    "connection = create_db_connection(\"localhost\", \"root\", pw, db)\n",
    "results = read_query(connection, q1)\n",
    "\n",
    "for result in results:\n",
    "  print(result)"
   ]
  },
  {
   "cell_type": "markdown",
   "metadata": {},
   "source": [
    "And here are some more queries to try."
   ]
  },
  {
   "cell_type": "code",
   "execution_count": 13,
   "metadata": {},
   "outputs": [
    {
     "name": "stdout",
     "output_type": "stream",
     "text": [
      "MySQL Database connection successful\n",
      "(13, 'Beginner English', 'ENG', 'Big Business Federation', '123 Falschungstraße, 10999 Berlin')\n",
      "(14, 'Intermediate English', 'ENG', 'Big Business Federation', '123 Falschungstraße, 10999 Berlin')\n",
      "(15, 'Advanced English', 'ENG', 'Big Business Federation', '123 Falschungstraße, 10999 Berlin')\n",
      "(17, 'Français intermédiaire', 'FRA', 'Big Business Federation', '123 Falschungstraße, 10999 Berlin')\n",
      "(19, 'Intermediate English', 'ENG', 'Banko Bank', '12 Betrugstraße, 12345 Berlin')\n",
      "(20, 'Fortgeschrittenes Russisch', 'RUS', 'AutoMaker AG', '20 Künstlichstraße, 10023 Berlin')\n"
     ]
    }
   ],
   "source": [
    "q2 = \"\"\"\n",
    "SELECT last_name, dob\n",
    "FROM teacher;\n",
    "\"\"\"\n",
    "\n",
    "q3 = \"\"\"\n",
    "SELECT *\n",
    "FROM course\n",
    "WHERE language = 'ENG'\n",
    "ORDER BY start_date DESC;\n",
    "\"\"\"\n",
    "\n",
    "q4 = \"\"\"\n",
    "SELECT first_name, last_name, phone_no\n",
    "FROM teacher\n",
    "WHERE dob < '1990-01-01';\n",
    "\"\"\"\n",
    "\n",
    "q5 = \"\"\"\n",
    "SELECT course.course_id, course.course_name, course.language, client.client_name, client.address\n",
    "FROM course\n",
    "JOIN client\n",
    "ON course.client = client.client_id\n",
    "WHERE course.in_school = FALSE;\n",
    "\"\"\"\n",
    "\n",
    "connection = create_db_connection(\"localhost\", \"root\", pw, db)\n",
    "results = read_query(connection, q5)\n",
    "\n",
    "for result in results:\n",
    "  print(result)"
   ]
  },
  {
   "cell_type": "markdown",
   "metadata": {},
   "source": [
    "##### 5.3 - Formatting Output into a List\n",
    "\n",
    "Now we can assign the results to a list, to use further in our python applications or scripts.\n",
    "\n",
    "The following code returns the results of our query as a list of tuples."
   ]
  },
  {
   "cell_type": "code",
   "execution_count": 14,
   "metadata": {},
   "outputs": [
    {
     "name": "stdout",
     "output_type": "stream",
     "text": [
      "[(13, 'Beginner English', 'ENG', 'Big Business Federation', '123 Falschungstraße, 10999 Berlin'), (14, 'Intermediate English', 'ENG', 'Big Business Federation', '123 Falschungstraße, 10999 Berlin'), (15, 'Advanced English', 'ENG', 'Big Business Federation', '123 Falschungstraße, 10999 Berlin'), (17, 'Français intermédiaire', 'FRA', 'Big Business Federation', '123 Falschungstraße, 10999 Berlin'), (19, 'Intermediate English', 'ENG', 'Banko Bank', '12 Betrugstraße, 12345 Berlin'), (20, 'Fortgeschrittenes Russisch', 'RUS', 'AutoMaker AG', '20 Künstlichstraße, 10023 Berlin')]\n"
     ]
    }
   ],
   "source": [
    "#Initialise empty list\n",
    "from_db = []\n",
    "\n",
    "# Loop over the results and append them into our list, different styles\n",
    "\n",
    "# Returns a list of tuples\n",
    "for result in results:\n",
    "  result = result\n",
    "  from_db.append(result)\n",
    "    \n",
    "print(from_db)"
   ]
  },
  {
   "cell_type": "markdown",
   "metadata": {},
   "source": [
    "##### 5.4 - Formatting Output into a List of Lists\n",
    "\n",
    "If we want to, we can make this return a list of lists instead, like so:"
   ]
  },
  {
   "cell_type": "code",
   "execution_count": 15,
   "metadata": {},
   "outputs": [
    {
     "name": "stdout",
     "output_type": "stream",
     "text": [
      "[[13, 'Beginner English', 'ENG', 'Big Business Federation', '123 Falschungstraße, 10999 Berlin'], [14, 'Intermediate English', 'ENG', 'Big Business Federation', '123 Falschungstraße, 10999 Berlin'], [15, 'Advanced English', 'ENG', 'Big Business Federation', '123 Falschungstraße, 10999 Berlin'], [17, 'Français intermédiaire', 'FRA', 'Big Business Federation', '123 Falschungstraße, 10999 Berlin'], [19, 'Intermediate English', 'ENG', 'Banko Bank', '12 Betrugstraße, 12345 Berlin'], [20, 'Fortgeschrittenes Russisch', 'RUS', 'AutoMaker AG', '20 Künstlichstraße, 10023 Berlin']]\n"
     ]
    }
   ],
   "source": [
    "# Returns a list of lists\n",
    "from_db = []\n",
    "\n",
    "for result in results:\n",
    "  result = list(result)\n",
    "  from_db.append(result)\n",
    "    \n",
    "print(from_db)"
   ]
  },
  {
   "cell_type": "markdown",
   "metadata": {},
   "source": [
    "##### 5.5 - Formatting Output into a pandas [DataFrame](https://pandas.pydata.org/pandas-docs/stable/reference/api/pandas.DataFrame.html)\n",
    "\n",
    "With a little more work (creating a list with our column names), we can create a pandas DataFrame like so:"
   ]
  },
  {
   "cell_type": "code",
   "execution_count": 16,
   "metadata": {},
   "outputs": [
    {
     "data": {
      "text/html": [
       "<div>\n",
       "<style scoped>\n",
       "    .dataframe tbody tr th:only-of-type {\n",
       "        vertical-align: middle;\n",
       "    }\n",
       "\n",
       "    .dataframe tbody tr th {\n",
       "        vertical-align: top;\n",
       "    }\n",
       "\n",
       "    .dataframe thead th {\n",
       "        text-align: right;\n",
       "    }\n",
       "</style>\n",
       "<table border=\"1\" class=\"dataframe\">\n",
       "  <thead>\n",
       "    <tr style=\"text-align: right;\">\n",
       "      <th></th>\n",
       "      <th>course_id</th>\n",
       "      <th>course_name</th>\n",
       "      <th>language</th>\n",
       "      <th>client_name</th>\n",
       "      <th>address</th>\n",
       "    </tr>\n",
       "  </thead>\n",
       "  <tbody>\n",
       "    <tr>\n",
       "      <th>0</th>\n",
       "      <td>13</td>\n",
       "      <td>Beginner English</td>\n",
       "      <td>ENG</td>\n",
       "      <td>Big Business Federation</td>\n",
       "      <td>123 Falschungstraße, 10999 Berlin</td>\n",
       "    </tr>\n",
       "    <tr>\n",
       "      <th>1</th>\n",
       "      <td>14</td>\n",
       "      <td>Intermediate English</td>\n",
       "      <td>ENG</td>\n",
       "      <td>Big Business Federation</td>\n",
       "      <td>123 Falschungstraße, 10999 Berlin</td>\n",
       "    </tr>\n",
       "    <tr>\n",
       "      <th>2</th>\n",
       "      <td>15</td>\n",
       "      <td>Advanced English</td>\n",
       "      <td>ENG</td>\n",
       "      <td>Big Business Federation</td>\n",
       "      <td>123 Falschungstraße, 10999 Berlin</td>\n",
       "    </tr>\n",
       "    <tr>\n",
       "      <th>3</th>\n",
       "      <td>17</td>\n",
       "      <td>Français intermédiaire</td>\n",
       "      <td>FRA</td>\n",
       "      <td>Big Business Federation</td>\n",
       "      <td>123 Falschungstraße, 10999 Berlin</td>\n",
       "    </tr>\n",
       "    <tr>\n",
       "      <th>4</th>\n",
       "      <td>19</td>\n",
       "      <td>Intermediate English</td>\n",
       "      <td>ENG</td>\n",
       "      <td>Banko Bank</td>\n",
       "      <td>12 Betrugstraße, 12345 Berlin</td>\n",
       "    </tr>\n",
       "    <tr>\n",
       "      <th>5</th>\n",
       "      <td>20</td>\n",
       "      <td>Fortgeschrittenes Russisch</td>\n",
       "      <td>RUS</td>\n",
       "      <td>AutoMaker AG</td>\n",
       "      <td>20 Künstlichstraße, 10023 Berlin</td>\n",
       "    </tr>\n",
       "  </tbody>\n",
       "</table>\n",
       "</div>"
      ],
      "text/plain": [
       "   course_id                 course_name language              client_name  \\\n",
       "0         13            Beginner English      ENG  Big Business Federation   \n",
       "1         14        Intermediate English      ENG  Big Business Federation   \n",
       "2         15            Advanced English      ENG  Big Business Federation   \n",
       "3         17      Français intermédiaire      FRA  Big Business Federation   \n",
       "4         19        Intermediate English      ENG               Banko Bank   \n",
       "5         20  Fortgeschrittenes Russisch      RUS             AutoMaker AG   \n",
       "\n",
       "                             address  \n",
       "0  123 Falschungstraße, 10999 Berlin  \n",
       "1  123 Falschungstraße, 10999 Berlin  \n",
       "2  123 Falschungstraße, 10999 Berlin  \n",
       "3  123 Falschungstraße, 10999 Berlin  \n",
       "4      12 Betrugstraße, 12345 Berlin  \n",
       "5   20 Künstlichstraße, 10023 Berlin  "
      ]
     },
     "metadata": {},
     "output_type": "display_data"
    }
   ],
   "source": [
    "# Returns a list of lists and then creates a pandas DataFrame\n",
    "from_db = []\n",
    "\n",
    "for result in results:\n",
    "  result = list(result)\n",
    "  from_db.append(result)\n",
    "\n",
    "\n",
    "columns = [\"course_id\", \"course_name\", \"language\", \"client_name\", \"address\"]\n",
    "df = pd.DataFrame(from_db, columns=columns)\n",
    "\n",
    "display(df)"
   ]
  },
  {
   "cell_type": "markdown",
   "metadata": {},
   "source": [
    "### 6. Updating Records\n",
    "\n",
    "Sometimes we will need to update our Database. We can do this very easily using our execute_query function alongside the SQL [UPDATE](https://dev.mysql.com/doc/refman/8.0/en/update.html) statement.\n",
    "\n",
    "##### 6.1 - Updating Client Address\n",
    "\n",
    "The School receives notification that the Big Business Federation has moved office, and now they are located at 23 Fingiertweg, 14534 Berlin. We can change that in our database like so:"
   ]
  },
  {
   "cell_type": "code",
   "execution_count": 17,
   "metadata": {},
   "outputs": [
    {
     "name": "stdout",
     "output_type": "stream",
     "text": [
      "MySQL Database connection successful\n",
      "Query successful\n"
     ]
    }
   ],
   "source": [
    "update = \"\"\"\n",
    "UPDATE client \n",
    "SET address = '23 Fingiertweg, 14534 Berlin' \n",
    "WHERE client_id = 101;\n",
    "\"\"\"\n",
    "\n",
    "connection = create_db_connection(\"localhost\", \"root\", pw, db)\n",
    "execute_query(connection, update)"
   ]
  },
  {
   "cell_type": "markdown",
   "metadata": {},
   "source": [
    "Let's see if that worked."
   ]
  },
  {
   "cell_type": "code",
   "execution_count": 18,
   "metadata": {},
   "outputs": [
    {
     "name": "stdout",
     "output_type": "stream",
     "text": [
      "MySQL Database connection successful\n",
      "(101, 'Big Business Federation', '23 Fingiertweg, 14534 Berlin', 'NGO')\n"
     ]
    }
   ],
   "source": [
    "q1 = \"\"\"\n",
    "SELECT *\n",
    "FROM client\n",
    "WHERE client_id = 101;\n",
    "\"\"\"\n",
    "\n",
    "connection = create_db_connection(\"localhost\", \"root\", pw, db)\n",
    "results = read_query(connection, q1)\n",
    "\n",
    "for result in results:\n",
    "  print(result)"
   ]
  },
  {
   "cell_type": "markdown",
   "metadata": {},
   "source": [
    "Excellent!\n",
    "\n",
    "Notice that as well as using \"WHERE client_id = 101\" in the UPDATE query, we could also have used \"WHERE client_name = 'Big Business Federation'\" or \"WHERE address = '123 Falschungstraße, 10999 Berlin'\" (or even \"WHERE address LIKE '%Falschung%'\"). The important thing is that the WHERE clause allows us to uniquely identify the record we want to update. \n",
    "\n",
    "Running the query without a WHERE clause would update all address records in the table, which is very much not what we wanted to do.\n",
    "\n",
    "-----------------\n",
    "\n",
    "### 7. Deleting Records\n",
    "\n",
    "##### 7.1 - Deleting a Course\n",
    "\n",
    "We can also use our execute_query function to delete records, by using DELETE FROM.\n",
    "\n",
    "Let's try this with our course table. First let's remind ourselves of the courses contained in the table."
   ]
  },
  {
   "cell_type": "code",
   "execution_count": 19,
   "metadata": {},
   "outputs": [
    {
     "name": "stdout",
     "output_type": "stream",
     "text": [
      "MySQL Database connection successful\n",
      "(12, 'English for Logistics', 'ENG', 'A1', 10, datetime.date(2020, 2, 1), 1, 1, 105)\n",
      "(13, 'Beginner English', 'ENG', 'A2', 40, datetime.date(2019, 11, 12), 0, 6, 101)\n",
      "(14, 'Intermediate English', 'ENG', 'B2', 40, datetime.date(2019, 11, 12), 0, 6, 101)\n",
      "(15, 'Advanced English', 'ENG', 'C1', 40, datetime.date(2019, 11, 12), 0, 6, 101)\n",
      "(16, 'Mandarin für Autoindustrie', 'MAN', 'B1', 15, datetime.date(2020, 1, 15), 1, 3, 103)\n",
      "(17, 'Français intermédiaire', 'FRA', 'B1', 18, datetime.date(2020, 4, 3), 0, 2, 101)\n",
      "(18, 'Deutsch für Anfänger', 'DEU', 'A2', 8, datetime.date(2020, 2, 14), 1, 4, 102)\n",
      "(19, 'Intermediate English', 'ENG', 'B2', 10, datetime.date(2020, 3, 29), 0, 1, 104)\n",
      "(20, 'Fortgeschrittenes Russisch', 'RUS', 'C1', 4, datetime.date(2020, 4, 8), 0, 5, 103)\n"
     ]
    }
   ],
   "source": [
    "q1 = \"\"\"\n",
    "SELECT *\n",
    "FROM course;\n",
    "\"\"\"\n",
    "\n",
    "connection = create_db_connection(\"localhost\", \"root\", pw, db)\n",
    "results = read_query(connection, q1)\n",
    "\n",
    "from_db = []\n",
    "\n",
    "for result in results:\n",
    "  print(result)"
   ]
  },
  {
   "cell_type": "markdown",
   "metadata": {},
   "source": [
    "Let's delete the course with course_id 20 - 'Fortgeschrittenes Russisch'. For this we will use the [DELETE](https://dev.mysql.com/doc/refman/8.0/en/delete.html) SQL command."
   ]
  },
  {
   "cell_type": "code",
   "execution_count": 20,
   "metadata": {},
   "outputs": [
    {
     "name": "stdout",
     "output_type": "stream",
     "text": [
      "MySQL Database connection successful\n",
      "Query successful\n"
     ]
    }
   ],
   "source": [
    "delete_course = \"\"\"\n",
    "DELETE FROM course WHERE course_id = 20;\n",
    "\"\"\"\n",
    "\n",
    "connection = create_db_connection(\"localhost\", \"root\", pw, db)\n",
    "execute_query(connection, delete_course)"
   ]
  },
  {
   "cell_type": "markdown",
   "metadata": {},
   "source": [
    "Let's confirm that the course is gone."
   ]
  },
  {
   "cell_type": "code",
   "execution_count": 21,
   "metadata": {},
   "outputs": [
    {
     "name": "stdout",
     "output_type": "stream",
     "text": [
      "MySQL Database connection successful\n",
      "(12, 'English for Logistics', 'ENG', 'A1', 10, datetime.date(2020, 2, 1), 1, 1, 105)\n",
      "(13, 'Beginner English', 'ENG', 'A2', 40, datetime.date(2019, 11, 12), 0, 6, 101)\n",
      "(14, 'Intermediate English', 'ENG', 'B2', 40, datetime.date(2019, 11, 12), 0, 6, 101)\n",
      "(15, 'Advanced English', 'ENG', 'C1', 40, datetime.date(2019, 11, 12), 0, 6, 101)\n",
      "(16, 'Mandarin für Autoindustrie', 'MAN', 'B1', 15, datetime.date(2020, 1, 15), 1, 3, 103)\n",
      "(17, 'Français intermédiaire', 'FRA', 'B1', 18, datetime.date(2020, 4, 3), 0, 2, 101)\n",
      "(18, 'Deutsch für Anfänger', 'DEU', 'A2', 8, datetime.date(2020, 2, 14), 1, 4, 102)\n",
      "(19, 'Intermediate English', 'ENG', 'B2', 10, datetime.date(2020, 3, 29), 0, 1, 104)\n"
     ]
    }
   ],
   "source": [
    "q1 = \"\"\"\n",
    "SELECT *\n",
    "FROM course;\n",
    "\"\"\"\n",
    "\n",
    "connection = create_db_connection(\"localhost\", \"root\", pw, db)\n",
    "results = read_query(connection, q1)\n",
    "\n",
    "from_db = []\n",
    "\n",
    "for result in results:\n",
    "  print(result)"
   ]
  },
  {
   "cell_type": "markdown",
   "metadata": {},
   "source": [
    "It's gone! Good work.\n",
    "\n",
    "##### 7.2 - Restoring the Course\n",
    "\n",
    "Let's put that course back - it's a perfectly good course."
   ]
  },
  {
   "cell_type": "code",
   "execution_count": 22,
   "metadata": {},
   "outputs": [
    {
     "name": "stdout",
     "output_type": "stream",
     "text": [
      "MySQL Database connection successful\n",
      "Query successful\n",
      "MySQL Database connection successful\n",
      "(12, 'English for Logistics', 'ENG', 'A1', 10, datetime.date(2020, 2, 1), 1, 1, 105)\n",
      "(13, 'Beginner English', 'ENG', 'A2', 40, datetime.date(2019, 11, 12), 0, 6, 101)\n",
      "(14, 'Intermediate English', 'ENG', 'B2', 40, datetime.date(2019, 11, 12), 0, 6, 101)\n",
      "(15, 'Advanced English', 'ENG', 'C1', 40, datetime.date(2019, 11, 12), 0, 6, 101)\n",
      "(16, 'Mandarin für Autoindustrie', 'MAN', 'B1', 15, datetime.date(2020, 1, 15), 1, 3, 103)\n",
      "(17, 'Français intermédiaire', 'FRA', 'B1', 18, datetime.date(2020, 4, 3), 0, 2, 101)\n",
      "(18, 'Deutsch für Anfänger', 'DEU', 'A2', 8, datetime.date(2020, 2, 14), 1, 4, 102)\n",
      "(19, 'Intermediate English', 'ENG', 'B2', 10, datetime.date(2020, 3, 29), 0, 1, 104)\n",
      "(20, 'Fortgeschrittenes Russisch', 'RUS', 'C1', 4, datetime.date(2020, 4, 8), 0, 5, 103)\n"
     ]
    }
   ],
   "source": [
    "restore_russian = \"\"\"\n",
    "INSERT INTO course VALUES\n",
    "(20, 'Fortgeschrittenes Russisch', 'RUS', 'C1',  4, '2020-04-08',  FALSE, 5, 103);\n",
    "\"\"\"\n",
    "\n",
    "connection = create_db_connection(\"localhost\", \"root\", pw, db)\n",
    "execute_query(connection, restore_russian)\n",
    "\n",
    "\n",
    "q1 = \"\"\"\n",
    "SELECT *\n",
    "FROM course;\n",
    "\"\"\"\n",
    "\n",
    "connection = create_db_connection(\"localhost\", \"root\", pw, db)\n",
    "results = read_query(connection, q1)\n",
    "\n",
    "from_db = []\n",
    "\n",
    "for result in results:\n",
    "  print(result)"
   ]
  },
  {
   "cell_type": "markdown",
   "metadata": {},
   "source": [
    "Excellent.\n",
    "\n",
    "This also works with DROP TABLE if we want to get rid of a whole table at once. We won't do that in this tutorial, but feel free to try it yourself. In this notebook we can always create and populate the table again - in a real production environment we will need to be much more careful with the DELETE and DROP operations. \n",
    "\n",
    "And always remember to back up our database!\n",
    "\n",
    "----------------\n",
    "\n",
    "### 8. Creating Records from Lists\n",
    "\n",
    "We saw in Section 4 that we can use the SQL [INSERT](https://dev.mysql.com/doc/refman/8.0/en/insert.html) command in our execute_query function to insert records into our tables.\n",
    "\n",
    "MySQL Connector also gives us a way to do this in a more 'pythonic' fashion, using a list of tuples as our input, where each tuple contains the data we wish to insert into our table. This is extremely useful for updating our database with data which may have been generated by an application we have written in Python, such as logs of user activity on a social media app, for example.\n",
    "\n",
    "To do this, we will use the [executemany()](https://dev.mysql.com/doc/connector-python/en/connector-python-api-mysqlcursor-executemany.html) method, instead of the simpler [execute()](https://dev.mysql.com/doc/connector-python/en/connector-python-api-mysqlcursor-execute.html) method we have been using thus far.\n",
    "\n",
    "This method is also more secure if our database is open to our users at any point, as it helps to prevent against [SQL Injection](https://en.wikipedia.org/wiki/SQL_injection) attacks, which can damage or even destroy our whole database.\n",
    "\n",
    "##### 8.1 - Create Execute List Query Function\n",
    "\n",
    "To see how we can do this, let's add a couple of new teachers to our teacher table.\n",
    "\n",
    "Fist let's modify our execute_query function to use [executemany()](https://dev.mysql.com/doc/connector-python/en/connector-python-api-mysqlcursor-executemany.html) and to accept one more argument."
   ]
  },
  {
   "cell_type": "code",
   "execution_count": 23,
   "metadata": {},
   "outputs": [],
   "source": [
    "def execute_list_query(connection, sql, val):\n",
    "    cursor = connection.cursor()\n",
    "    try:\n",
    "        cursor.executemany(sql, val)\n",
    "        connection.commit()\n",
    "        print(\"Query successful\")\n",
    "    except Error as err:\n",
    "        print(f\"Error: '{err}'\")"
   ]
  },
  {
   "cell_type": "markdown",
   "metadata": {},
   "source": [
    "##### 8.2 - Add New Teachers\n",
    "\n",
    "Now let's create a list containing the data for our new teachers (each stored within a [tuple](https://www.w3schools.com/python/python_tuples.asp)), and the SQL command to perform our action.\n",
    "\n",
    "Notice that the SQL command requires a '%s' placeholder for each of the columns we wish to act upon, so in this case we need 8 for the 8 columns we wish to add values for."
   ]
  },
  {
   "cell_type": "code",
   "execution_count": 24,
   "metadata": {},
   "outputs": [
    {
     "name": "stdout",
     "output_type": "stream",
     "text": [
      "MySQL Database connection successful\n",
      "Query successful\n"
     ]
    }
   ],
   "source": [
    "sql = '''\n",
    "    INSERT INTO teacher (teacher_id, first_name, last_name, language_1, language_2, dob, tax_id, phone_no) \n",
    "    VALUES (%s, %s, %s, %s, %s, %s, %s, %s)\n",
    "    '''\n",
    "val = [\n",
    "    (7, 'Hank', 'Dodson', 'ENG', None, '1991-12-23', 11111, '+491772345678'), \n",
    "    (8, 'Sue', 'Perkins', 'MAN', 'ENG', '1976-02-02', 22222, '+491443456432')\n",
    "]\n",
    "\n",
    "\n",
    "connection = create_db_connection(\"localhost\", \"root\", pw, db)\n",
    "execute_list_query(connection, sql, val)"
   ]
  },
  {
   "cell_type": "code",
   "execution_count": 25,
   "metadata": {},
   "outputs": [
    {
     "name": "stdout",
     "output_type": "stream",
     "text": [
      "MySQL Database connection successful\n",
      "(1, 'James', 'Smith', 'ENG', None, datetime.date(1985, 4, 20), 12345, '+491774553676')\n",
      "(2, 'Stefanie', 'Martin', 'FRA', None, datetime.date(1970, 2, 17), 23456, '+491234567890')\n",
      "(3, 'Steve', 'Wang', 'MAN', 'ENG', datetime.date(1990, 11, 12), 34567, '+447840921333')\n",
      "(4, 'Friederike', 'Müller-Rossi', 'DEU', 'ITA', datetime.date(1987, 7, 7), 45678, '+492345678901')\n",
      "(5, 'Isobel', 'Ivanova', 'RUS', 'ENG', datetime.date(1963, 5, 30), 56789, '+491772635467')\n",
      "(6, 'Niamh', 'Murphy', 'ENG', 'IRI', datetime.date(1995, 9, 8), 67890, '+491231231232')\n",
      "(7, 'Hank', 'Dodson', 'ENG', None, datetime.date(1991, 12, 23), 11111, '+491772345678')\n",
      "(8, 'Sue', 'Perkins', 'MAN', 'ENG', datetime.date(1976, 2, 2), 22222, '+491443456432')\n"
     ]
    }
   ],
   "source": [
    "q1 = \"\"\"\n",
    "SELECT *\n",
    "FROM teacher;\n",
    "\"\"\"\n",
    "\n",
    "connection = create_db_connection(\"localhost\", \"root\", pw, db)\n",
    "results = read_query(connection, q1)\n",
    "\n",
    "from_db = []\n",
    "\n",
    "for result in results:\n",
    "  print(result)"
   ]
  }
 ],
 "metadata": {
  "kernelspec": {
   "display_name": "Python 3",
   "language": "python",
   "name": "python3"
  },
  "language_info": {
   "codemirror_mode": {
    "name": "ipython",
    "version": 3
   },
   "file_extension": ".py",
   "mimetype": "text/x-python",
   "name": "python",
   "nbconvert_exporter": "python",
   "pygments_lexer": "ipython3",
   "version": "3.7.6"
  }
 },
 "nbformat": 4,
 "nbformat_minor": 4
}
